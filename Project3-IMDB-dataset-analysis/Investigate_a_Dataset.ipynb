{
 "cells": [
  {
   "cell_type": "markdown",
   "metadata": {},
   "source": [
    "\n",
    "# Project: Investigating TMDB Movie Database.\n",
    "\n",
    "## Table of Contents\n",
    "<ul>\n",
    "<li><a href=\"#intro\">Introduction</a></li>\n",
    "<li><a href=\"#wrangling\">Data Wrangling</a></li>\n",
    "<li><a href=\"#eda\">Exploratory Data Analysis</a></li>\n",
    "<li><a href=\"#conclusions\">Conclusions</a></li>\n",
    "</ul>"
   ]
  },
  {
   "cell_type": "markdown",
   "metadata": {},
   "source": [
    "<a id='intro'></a>\n",
    "## Introduction\n",
    "\n"
   ]
  },
  {
   "cell_type": "markdown",
   "metadata": {},
   "source": [
    "The data that I will be analysing are information on 10000 movies from The Movie Database (TMDb). "
   ]
  },
  {
   "cell_type": "code",
   "execution_count": 2,
   "metadata": {
    "collapsed": true
   },
   "outputs": [],
   "source": [
    "# Use this cell to set up import statements for all of the packages that you\n",
    "#   plan to use.\n",
    "import pandas as pd\n",
    "import numpy as np\n",
    "import matplotlib.pyplot as plt\n",
    "%matplotlib inline\n",
    "# Remember to include a 'magic word' so that your visualizations are plotted\n",
    "#   inline with the notebook. See this page for more:\n",
    "#   http://ipython.readthedocs.io/en/stable/interactive/magics.html\n"
   ]
  },
  {
   "cell_type": "markdown",
   "metadata": {},
   "source": [
    "<a id='wrangling'></a>\n",
    "## Data Wrangling\n",
    "\n",
    "> **Tip**: In this section of the report, you will load in the data, check for cleanliness, and then trim and clean your dataset for analysis. Make sure that you document your steps carefully and justify your cleaning decisions.\n",
    "\n",
    "### General Properties"
   ]
  },
  {
   "cell_type": "code",
   "execution_count": 3,
   "metadata": {
    "scrolled": false
   },
   "outputs": [
    {
     "name": "stdout",
     "output_type": "stream",
     "text": [
      "<class 'pandas.core.frame.DataFrame'>\n",
      "RangeIndex: 10866 entries, 0 to 10865\n",
      "Data columns (total 21 columns):\n",
      "id                      10866 non-null int64\n",
      "imdb_id                 10856 non-null object\n",
      "popularity              10866 non-null float64\n",
      "budget                  10866 non-null int64\n",
      "revenue                 10866 non-null int64\n",
      "original_title          10866 non-null object\n",
      "cast                    10790 non-null object\n",
      "homepage                2936 non-null object\n",
      "director                10822 non-null object\n",
      "tagline                 8042 non-null object\n",
      "keywords                9373 non-null object\n",
      "overview                10862 non-null object\n",
      "runtime                 10866 non-null int64\n",
      "genres                  10843 non-null object\n",
      "production_companies    9836 non-null object\n",
      "release_date            10866 non-null object\n",
      "vote_count              10866 non-null int64\n",
      "vote_average            10866 non-null float64\n",
      "release_year            10866 non-null int64\n",
      "budget_adj              10866 non-null float64\n",
      "revenue_adj             10866 non-null float64\n",
      "dtypes: float64(4), int64(6), object(11)\n",
      "memory usage: 1.7+ MB\n"
     ]
    }
   ],
   "source": [
    "# Load your data and print out a few lines. Perform operations to inspect data\n",
    "#   types and look for instances of missing or possibly errant data.\n",
    "df=pd.read_csv('tmdb-movies.csv')\n",
    "df.info()"
   ]
  },
  {
   "cell_type": "markdown",
   "metadata": {},
   "source": [
    "\n",
    "### Data Cleaning \n",
    "> There are several columns such as \"homepage\" and \"tagline\" that have too many missing values. I will drop these columns first and then clean the rest of the dataframe by dropping rows with missing values\n",
    "\n",
    "> There is only 1 duplicated row, and I will drop that too"
   ]
  },
  {
   "cell_type": "code",
   "execution_count": 4,
   "metadata": {},
   "outputs": [
    {
     "data": {
      "text/plain": [
       "1"
      ]
     },
     "execution_count": 4,
     "metadata": {},
     "output_type": "execute_result"
    }
   ],
   "source": [
    "# check for duplication\n",
    "sum(df.duplicated())\n",
    "\n"
   ]
  },
  {
   "cell_type": "code",
   "execution_count": 5,
   "metadata": {
    "collapsed": true
   },
   "outputs": [],
   "source": [
    "#drop duplication\n",
    "df.drop_duplicates(inplace=True)"
   ]
  },
  {
   "cell_type": "code",
   "execution_count": 6,
   "metadata": {},
   "outputs": [
    {
     "data": {
      "text/plain": [
       "0"
      ]
     },
     "execution_count": 6,
     "metadata": {},
     "output_type": "execute_result"
    }
   ],
   "source": [
    "#check.\n",
    "sum(df.duplicated())"
   ]
  },
  {
   "cell_type": "code",
   "execution_count": 7,
   "metadata": {
    "scrolled": true
   },
   "outputs": [
    {
     "name": "stdout",
     "output_type": "stream",
     "text": [
      "<class 'pandas.core.frame.DataFrame'>\n",
      "Int64Index: 10865 entries, 0 to 10865\n",
      "Data columns (total 21 columns):\n",
      "id                      10865 non-null int64\n",
      "imdb_id                 10855 non-null object\n",
      "popularity              10865 non-null float64\n",
      "budget                  10865 non-null int64\n",
      "revenue                 10865 non-null int64\n",
      "original_title          10865 non-null object\n",
      "cast                    10789 non-null object\n",
      "homepage                2936 non-null object\n",
      "director                10821 non-null object\n",
      "tagline                 8041 non-null object\n",
      "keywords                9372 non-null object\n",
      "overview                10861 non-null object\n",
      "runtime                 10865 non-null int64\n",
      "genres                  10842 non-null object\n",
      "production_companies    9835 non-null object\n",
      "release_date            10865 non-null object\n",
      "vote_count              10865 non-null int64\n",
      "vote_average            10865 non-null float64\n",
      "release_year            10865 non-null int64\n",
      "budget_adj              10865 non-null float64\n",
      "revenue_adj             10865 non-null float64\n",
      "dtypes: float64(4), int64(6), object(11)\n",
      "memory usage: 1.8+ MB\n"
     ]
    }
   ],
   "source": [
    "#info of df now\n",
    "df.info()"
   ]
  },
  {
   "cell_type": "code",
   "execution_count": 8,
   "metadata": {
    "collapsed": true
   },
   "outputs": [],
   "source": [
    "#drop columns with missing data\n",
    "df.drop(['homepage','tagline','keywords','production_companies'],1, inplace=True)\n",
    "\n"
   ]
  },
  {
   "cell_type": "code",
   "execution_count": 9,
   "metadata": {
    "scrolled": true
   },
   "outputs": [
    {
     "name": "stdout",
     "output_type": "stream",
     "text": [
      "<class 'pandas.core.frame.DataFrame'>\n",
      "Int64Index: 10865 entries, 0 to 10865\n",
      "Data columns (total 17 columns):\n",
      "id                10865 non-null int64\n",
      "imdb_id           10855 non-null object\n",
      "popularity        10865 non-null float64\n",
      "budget            10865 non-null int64\n",
      "revenue           10865 non-null int64\n",
      "original_title    10865 non-null object\n",
      "cast              10789 non-null object\n",
      "director          10821 non-null object\n",
      "overview          10861 non-null object\n",
      "runtime           10865 non-null int64\n",
      "genres            10842 non-null object\n",
      "release_date      10865 non-null object\n",
      "vote_count        10865 non-null int64\n",
      "vote_average      10865 non-null float64\n",
      "release_year      10865 non-null int64\n",
      "budget_adj        10865 non-null float64\n",
      "revenue_adj       10865 non-null float64\n",
      "dtypes: float64(4), int64(6), object(7)\n",
      "memory usage: 1.5+ MB\n"
     ]
    }
   ],
   "source": [
    "df.info()"
   ]
  },
  {
   "cell_type": "code",
   "execution_count": 10,
   "metadata": {
    "collapsed": true
   },
   "outputs": [],
   "source": [
    "#after dropping columns that have too many missing values, I will remove rows that have missing values.\n",
    "df.dropna(0, inplace=True)"
   ]
  },
  {
   "cell_type": "code",
   "execution_count": 11,
   "metadata": {
    "scrolled": true
   },
   "outputs": [
    {
     "name": "stdout",
     "output_type": "stream",
     "text": [
      "<class 'pandas.core.frame.DataFrame'>\n",
      "Int64Index: 10724 entries, 0 to 10865\n",
      "Data columns (total 17 columns):\n",
      "id                10724 non-null int64\n",
      "imdb_id           10724 non-null object\n",
      "popularity        10724 non-null float64\n",
      "budget            10724 non-null int64\n",
      "revenue           10724 non-null int64\n",
      "original_title    10724 non-null object\n",
      "cast              10724 non-null object\n",
      "director          10724 non-null object\n",
      "overview          10724 non-null object\n",
      "runtime           10724 non-null int64\n",
      "genres            10724 non-null object\n",
      "release_date      10724 non-null object\n",
      "vote_count        10724 non-null int64\n",
      "vote_average      10724 non-null float64\n",
      "release_year      10724 non-null int64\n",
      "budget_adj        10724 non-null float64\n",
      "revenue_adj       10724 non-null float64\n",
      "dtypes: float64(4), int64(6), object(7)\n",
      "memory usage: 1.5+ MB\n"
     ]
    }
   ],
   "source": [
    "#check info\n",
    "df.info()"
   ]
  },
  {
   "cell_type": "markdown",
   "metadata": {},
   "source": [
    "<a id='eda'></a>\n",
    "## Exploratory Data Analysis\n",
    "\n",
    "\n",
    "\n",
    "### Question 1: Genre.\n",
    "Which genre of movies are made most over time? <br>\n",
    "Which genre of movies gives the best profit on average?<br>\n",
    "Which genre of movies receives the best ratings?"
   ]
  },
  {
   "cell_type": "markdown",
   "metadata": {},
   "source": [
    "To analyse the distribution genre, I will first create a set that contains all the unique genre names."
   ]
  },
  {
   "cell_type": "code",
   "execution_count": 12,
   "metadata": {
    "collapsed": true
   },
   "outputs": [],
   "source": [
    "##create a set of genre\n",
    "genre_list=set()\n",
    "for i in df['genres'].str.split(\"|\"):\n",
    "    genre_list=genre_list.union(i)"
   ]
  },
  {
   "cell_type": "code",
   "execution_count": 13,
   "metadata": {
    "scrolled": true
   },
   "outputs": [
    {
     "data": {
      "text/plain": [
       "{'Action',\n",
       " 'Adventure',\n",
       " 'Animation',\n",
       " 'Comedy',\n",
       " 'Crime',\n",
       " 'Documentary',\n",
       " 'Drama',\n",
       " 'Family',\n",
       " 'Fantasy',\n",
       " 'Foreign',\n",
       " 'History',\n",
       " 'Horror',\n",
       " 'Music',\n",
       " 'Mystery',\n",
       " 'Romance',\n",
       " 'Science Fiction',\n",
       " 'TV Movie',\n",
       " 'Thriller',\n",
       " 'War',\n",
       " 'Western'}"
      ]
     },
     "execution_count": 13,
     "metadata": {},
     "output_type": "execute_result"
    }
   ],
   "source": [
    "genre_list"
   ]
  },
  {
   "cell_type": "markdown",
   "metadata": {},
   "source": [
    "#### First, I will examine whicn genre of movies is made most over time?"
   ]
  },
  {
   "cell_type": "code",
   "execution_count": 14,
   "metadata": {
    "collapsed": true
   },
   "outputs": [],
   "source": [
    "#generate an empty dictionary\n",
    "genre_dict={}\n",
    "\n",
    "#assign 0 to dictionary items first\n",
    "for i in genre_list:\n",
    "    genre_dict[i]=0\n",
    "    \n",
    "#replace 0 with count data\n",
    "for i in genre_list:\n",
    "    for a in df['genres'].str.split(\"|\"):\n",
    "        genre_dict[i]+=a.count(i)"
   ]
  },
  {
   "cell_type": "code",
   "execution_count": 15,
   "metadata": {
    "scrolled": true
   },
   "outputs": [
    {
     "data": {
      "text/plain": [
       "[('Music', 398),\n",
       " ('Horror', 1636),\n",
       " ('Comedy', 3774),\n",
       " ('Romance', 1707),\n",
       " ('Fantasy', 905),\n",
       " ('Drama', 4744),\n",
       " ('TV Movie', 162),\n",
       " ('Adventure', 1463),\n",
       " ('Family', 1213),\n",
       " ('Mystery', 808),\n",
       " ('Western', 164),\n",
       " ('Crime', 1353),\n",
       " ('Animation', 662),\n",
       " ('War', 268),\n",
       " ('Science Fiction', 1217),\n",
       " ('Foreign', 184),\n",
       " ('Documentary', 470),\n",
       " ('Thriller', 2902),\n",
       " ('History', 330),\n",
       " ('Action', 2371)]"
      ]
     },
     "execution_count": 15,
     "metadata": {},
     "output_type": "execute_result"
    }
   ],
   "source": [
    "list(genre_dict.items())"
   ]
  },
  {
   "cell_type": "code",
   "execution_count": 16,
   "metadata": {
    "collapsed": true
   },
   "outputs": [],
   "source": [
    "# convert the dictionary to a list\n",
    "genre_count=[]\n",
    "for k,v in genre_dict.items():\n",
    "    genre_count.append([k,v])"
   ]
  },
  {
   "cell_type": "code",
   "execution_count": 17,
   "metadata": {
    "collapsed": true
   },
   "outputs": [],
   "source": [
    "#sort the list\n",
    "genre_count.sort(key=lambda x:x[1],reverse=True)"
   ]
  },
  {
   "cell_type": "markdown",
   "metadata": {},
   "source": [
    "Create a graph showing the number of movies by genres"
   ]
  },
  {
   "cell_type": "code",
   "execution_count": 21,
   "metadata": {},
   "outputs": [
    {
     "data": {
      "image/png": "[encoded data removed]",
      "text/plain": [
       "<matplotlib.figure.Figure at 0x7f261b8cc048>"
      ]
     },
     "metadata": {},
     "output_type": "display_data"
    }
   ],
   "source": [
    "x_label=[i[0] for i in genre_count]\n",
    "y_axis=[i[1] for i in genre_count]\n",
    "x_axis=range(len(genre_count))\n",
    "plt.bar(x_axis, y_axis, color='g')\n",
    "plt.xticks(x_axis, x_label)\n",
    "plt.xticks(rotation=90, fontsize = 10)\n",
    "plt.yticks(fontsize = 15)\n",
    "plt.title(\"Number of movies produced according to genre\")\n",
    "plt.ylabel(\"No. of movies made\", fontsize = 10);\n"
   ]
  },
  {
   "cell_type": "markdown",
   "metadata": {},
   "source": [
    "Drama is the most made genre, followed by Comedy and Thriller. The least made genre is TV movies. \n",
    "#### Next, I will investigate which genre generates the most profits.\n",
    "   \n",
    "    "
   ]
  },
  {
   "cell_type": "markdown",
   "metadata": {},
   "source": [
    "I will create a list with average profit for each genre"
   ]
  },
  {
   "cell_type": "code",
   "execution_count": 19,
   "metadata": {},
   "outputs": [
    {
     "data": {
      "text/plain": [
       "[['Music', 34537161.679360777],\n",
       " ['Horror', 16327843.797801172],\n",
       " ['Comedy', 32137122.712431218],\n",
       " ['Romance', 32632267.381068051],\n",
       " ['Fantasy', 74707082.950170964],\n",
       " ['Drama', 25650568.14121972],\n",
       " ['TV Movie', 55268.575865241437],\n",
       " ['Adventure', 98272344.63461633],\n",
       " ['Family', 61723869.256193019],\n",
       " ['Mystery', 31484729.211066179],\n",
       " ['Western', 21735555.560718738],\n",
       " ['Crime', 35128841.755657531],\n",
       " ['Animation', 63316048.837750793],\n",
       " ['War', 41362434.140926749],\n",
       " ['Science Fiction', 58020645.965436652],\n",
       " ['Foreign', -627383.31825061422],\n",
       " ['Documentary', 1789833.0435530567],\n",
       " ['Thriller', 34664003.257203512],\n",
       " ['History', 21672146.514814664],\n",
       " ['Action', 59120548.157277226]]"
      ]
     },
     "execution_count": 19,
     "metadata": {},
     "output_type": "execute_result"
    }
   ],
   "source": [
    "#reset index because I deleted many rows\n",
    "df.reset_index(drop=True,inplace=True)\n",
    "#Create an empty list to hold the information\n",
    "profit_list=[]\n",
    "#iterate through the list and get average profit information\n",
    "for i in genre_list:\n",
    "    profit=0\n",
    "    for a in range(len(df)):\n",
    "        if i in df['genres'][a].split(\"|\"):\n",
    "            profit+=df['revenue_adj'][a]-df['budget_adj'][a]\n",
    "    profit_list.append([i,profit/genre_dict[i]])\n",
    "#check the list\n",
    "profit_list"
   ]
  },
  {
   "cell_type": "markdown",
   "metadata": {},
   "source": [
    "I will then create a bar graph from this list"
   ]
  },
  {
   "cell_type": "code",
   "execution_count": 24,
   "metadata": {
    "scrolled": false
   },
   "outputs": [
    {
     "data": {
      "image/png": "[encoded data removed]",
      "text/plain": [
       "<matplotlib.figure.Figure at 0x7f261bef1ba8>"
      ]
     },
     "metadata": {},
     "output_type": "display_data"
    }
   ],
   "source": [
    "#sort the list\n",
    "profit_list.sort(key = lambda x:x[1], reverse = True)\n",
    "\n",
    "#Graph\n",
    "y_axis = [i[1] for i in profit_list]\n",
    "x_axis = range(len(profit_list))\n",
    "x_label = [i[0] for i in profit_list]\n",
    "\n",
    "plt.bar(x_axis, y_axis, align='center', color='g')\n",
    "plt.xticks(x_axis, x_label)\n",
    "plt.xticks(rotation=90, fontsize = 10)\n",
    "plt.yticks(fontsize = 15)\n",
    "plt.title(\"Average profit of movies by genre\")\n",
    "plt.ylabel(\"Average profit\", fontsize = 18);"
   ]
  },
  {
   "cell_type": "markdown",
   "metadata": {},
   "source": [
    "Adventure genre, on average, makes the most profit, followed by Fantasy and Animation.\n",
    "Documentary, TV Movies and Foreign movies do not perform very well.\n",
    "Drame, the movie genre with most movies made, is also in the low profit range."
   ]
  },
  {
   "cell_type": "markdown",
   "metadata": {},
   "source": [
    "#### Finally, I will examine the relationship between genre and ratings."
   ]
  },
  {
   "cell_type": "code",
   "execution_count": 25,
   "metadata": {},
   "outputs": [
    {
     "data": {
      "text/plain": [
       "[['Music', 6.4688442211055204],\n",
       " ['Horror', 5.3377139364303146],\n",
       " ['Comedy', 5.901245363010065],\n",
       " ['Romance', 6.0427065026362037],\n",
       " ['Fantasy', 5.8525966850828777],\n",
       " ['Drama', 6.1631956155143408],\n",
       " ['TV Movie', 5.7419753086419787],\n",
       " ['Adventure', 5.9337662337662431],\n",
       " ['Family', 5.9858202802967959],\n",
       " ['Mystery', 5.946534653465342],\n",
       " ['Western', 6.0835365853658541],\n",
       " ['Crime', 6.1249815225425088],\n",
       " ['Animation', 6.3839879154078627],\n",
       " ['War', 6.2966417910447747],\n",
       " ['Science Fiction', 5.6533278553820905],\n",
       " ['Foreign', 5.9788043478260864],\n",
       " ['Documentary', 6.8985106382978767],\n",
       " ['Thriller', 5.7503101309441806],\n",
       " ['History', 6.4118181818181803],\n",
       " ['Action', 5.7822859552931316]]"
      ]
     },
     "execution_count": 25,
     "metadata": {},
     "output_type": "execute_result"
    }
   ],
   "source": [
    "#create an empty list to hold the values\n",
    "rating_list=[]\n",
    "#iterate\n",
    "for i in genre_list:\n",
    "    rating=0\n",
    "    for a in range(len(df)):\n",
    "        if i in df['genres'][a].split(\"|\"):\n",
    "            rating+=df['vote_average'][a]\n",
    "    rating_list.append([i,rating/genre_dict[i]])\n",
    "\n",
    "rating_list"
   ]
  },
  {
   "cell_type": "code",
   "execution_count": 26,
   "metadata": {},
   "outputs": [
    {
     "data": {
      "image/png": "[encoded data removed]",
      "text/plain": [
       "<matplotlib.figure.Figure at 0x7f261be44dd8>"
      ]
     },
     "metadata": {},
     "output_type": "display_data"
    }
   ],
   "source": [
    "#sorting\n",
    "rating_list.sort(key = lambda x:x[1], reverse = True)\n",
    "#Graph\n",
    "y_axis = [i[1] for i in rating_list]\n",
    "x_axis = range(len(rating_list))\n",
    "x_label = [i[0] for i in rating_list]\n",
    "\n",
    "plt.bar(x_axis, y_axis, align='center', color='g')\n",
    "plt.xticks(x_axis, x_label)\n",
    "plt.xticks(rotation=90, fontsize = 10)\n",
    "plt.yticks(fontsize = 15)\n",
    "plt.ylim(5,7)\n",
    "plt.title(\"Average rating of movies by genre\")\n",
    "plt.ylabel(\"Average rating\", fontsize = 18);"
   ]
  },
  {
   "cell_type": "markdown",
   "metadata": {},
   "source": [
    "Horror movie receives the lowest average rating. Documentary receives the highest. Adventure, which is the most profitable genre, does not necessarily receive high rating."
   ]
  },
  {
   "cell_type": "markdown",
   "metadata": {},
   "source": [
    "### Question2: Runtime\n",
    "How has runtime of a movie changes over time? <br>\n",
    "How does the runtime of a movie correlate with its ratings, profit?"
   ]
  },
  {
   "cell_type": "markdown",
   "metadata": {},
   "source": [
    "#### First, I will examine how runtimes of movies changed over time."
   ]
  },
  {
   "cell_type": "code",
   "execution_count": 131,
   "metadata": {
    "scrolled": false
   },
   "outputs": [
    {
     "data": {
      "text/plain": [
       "Text(0.5,1,'Average movie run time by release year')"
      ]
     },
     "execution_count": 131,
     "metadata": {},
     "output_type": "execute_result"
    },
    {
     "data": {
      "image/png": "[encoded data removed]",
      "text/plain": [
       "<matplotlib.figure.Figure at 0x7f404c744a58>"
      ]
     },
     "metadata": {},
     "output_type": "display_data"
    }
   ],
   "source": [
    "#groupby runtime and plot\n",
    "runtime_by_year=df.groupby(by='release_year').mean()['runtime']\n",
    "\n",
    "runtime_by_year.plot(label='Run time (min)')\n",
    "plt.legend()\n",
    "plt.ylabel('Movie Runtime')\n",
    "plt.title('Average movie run time by release year')"
   ]
  },
  {
   "cell_type": "markdown",
   "metadata": {},
   "source": [
    "Movie runtime actually decreased through time."
   ]
  },
  {
   "cell_type": "markdown",
   "metadata": {},
   "source": [
    "#### Next, I will examine the relationship between rumtime and ratings."
   ]
  },
  {
   "cell_type": "code",
   "execution_count": 129,
   "metadata": {
    "scrolled": true
   },
   "outputs": [
    {
     "data": {
      "text/plain": [
       "<matplotlib.axes._subplots.AxesSubplot at 0x7f404c802c50>"
      ]
     },
     "execution_count": 129,
     "metadata": {},
     "output_type": "execute_result"
    },
    {
     "data": {
      "image/png": "[encoded data removed]",
      "text/plain": [
       "<matplotlib.figure.Figure at 0x7f404c7e24e0>"
      ]
     },
     "metadata": {},
     "output_type": "display_data"
    }
   ],
   "source": [
    "# I will group runtime by 5 minute intervals till 250 minutes. Movies longer than 250 minutes are too few.\n",
    "\n",
    "vote_by_runtime=df.groupby(pd.cut(df['runtime'],np.arange(min(df['runtime']),250,10))).mean()['vote_average']\n",
    "plt.ylim(5,7.5)\n",
    "plt.ylabel('Averate Rating')\n",
    "plt.title('Average Rating vs Movie Runtime')\n",
    "vote_by_runtime.plot(label='Run time (min)',kind=\"bar\")"
   ]
  },
  {
   "cell_type": "markdown",
   "metadata": {},
   "source": [
    "Movies that are less than 70 minutes long have high ratings. \n",
    "Movies that are more than 70 minutes long tend to have higher ratings when the movies are longer."
   ]
  },
  {
   "cell_type": "markdown",
   "metadata": {},
   "source": [
    "#### Lastly, I will examine the relationship between runtime and profit of a movie."
   ]
  },
  {
   "cell_type": "code",
   "execution_count": 125,
   "metadata": {
    "scrolled": true
   },
   "outputs": [
    {
     "data": {
      "image/png": "[encoded data removed]",
      "text/plain": [
       "<matplotlib.figure.Figure at 0x7f404cbf7710>"
      ]
     },
     "metadata": {},
     "output_type": "display_data"
    }
   ],
   "source": [
    "group_by_runtime=df.groupby(pd.cut(df['runtime'],np.arange(min(df['runtime']),250,10))).mean()\n",
    "group_by_runtime['profit']=group_by_runtime['revenue_adj']-group_by_runtime['budget_adj']\n",
    "profit_by_runtime=group_by_runtime['profit']\n",
    "\n",
    "profit_by_runtime.plot(kind=\"bar\")\n",
    "plt.ylabel('Average profit')\n",
    "plt.title('Average profit vs Runtime');"
   ]
  },
  {
   "cell_type": "markdown",
   "metadata": {},
   "source": [
    "Movies that are less than 100 minutes have low average profit. Movies profit increases as the runtime increases from 100 to 170min and then profit decreases if runtime is longer. However, there is a spike in profit at movies of 190-200 minutes long and then decrease as runtime further increases."
   ]
  },
  {
   "cell_type": "markdown",
   "metadata": {},
   "source": [
    "<a id='conclusions'></a>\n",
    "## Conclusions\n"
   ]
  },
  {
   "cell_type": "markdown",
   "metadata": {},
   "source": [
    "### To summarize the important findings:\n",
    "#### Question 1: Genre vs Count/Profit/Ratings:\n",
    "Drama is the most produced genre in this dataset.<br>\n",
    "Adventure genre, on average, correlates with the largest profit, although its rating is in the low range <br>\n",
    "Documentary movies, on average, receive the highest ratings. Drama, the most produced genre, has relatively high ratings as well. <br>\n",
    "\n",
    "#### Question 2: Runtime vs Year/Profit/Ratings\n",
    "Interestingly, runtime of movies has been decreasing since 1960, from close to 2 hours to a little over 1.5 hours. <br>\n",
    "Movies that are more than 70 minutes long tend to have higher ratings when the movies are longer. <br>\n",
    "Movies that are less than 100 minutes have low average profit. Movies profit increases as the runtime increases from 100 to 170min and then profit decreases if runtime is longer. However, there is a spike in profit at movies of 190-200 minutes long and then decrease as runtime further increases.\n",
    "\n",
    "#### Limitations\n",
    "There are missing values in the dataset, and about 100 entries of data had to be deleted because of missing values.\n",
    "For several categories, such as \"tagline\", \"keywords\" and \"production companies\", there are too much missing values to be analyzed.\n",
    "\n",
    "#### Future Questions to Investigate\n",
    "From the results of question 2, the runtime and ratings has an interesting treand that is worth exploring further. The shorter moveis received high ratings, but as soon as the runtime goes beyond 70 minutes, the ratings drop sharply. My hypothesis is that the shorter movies are of a specific set of genres and the genres of these movies determined their high ratings. To analyse this, I will add \"genre\" as an additional variable to the existing runtime/rating analysis.\n",
    "\n",
    "Other interesting questions that can be answered by this dataset includes:<br>\n",
    "1. Does certain actor/director correlate with high rating/profit?\n",
    "2. Have the proportions of movies made of different genres changed over time?\n",
    "3. Which genre receives the most votes on average?\n"
   ]
  },
  {
   "cell_type": "code",
   "execution_count": 132,
   "metadata": {},
   "outputs": [
    {
     "data": {
      "text/plain": [
       "0"
      ]
     },
     "execution_count": 132,
     "metadata": {},
     "output_type": "execute_result"
    }
   ],
   "source": [
    "from subprocess import call\n",
    "call(['python', '-m', 'nbconvert', 'Investigate_a_Dataset.ipynb'])"
   ]
  }
 ],
 "metadata": {
  "kernelspec": {
   "display_name": "Python 3",
   "language": "python",
   "name": "python3"
  },
  "language_info": {
   "codemirror_mode": {
    "name": "ipython",
    "version": 3
   },
   "file_extension": ".py",
   "mimetype": "text/x-python",
   "name": "python",
   "nbconvert_exporter": "python",
   "pygments_lexer": "ipython3",
   "version": "3.6.3"
  }
 },
 "nbformat": 4,
 "nbformat_minor": 2
}
